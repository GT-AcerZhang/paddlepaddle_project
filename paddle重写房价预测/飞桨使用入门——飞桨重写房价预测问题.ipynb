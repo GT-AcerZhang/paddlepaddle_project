{
 "cells": [
  {
   "cell_type": "code",
   "execution_count": 184,
   "metadata": {},
   "outputs": [
    {
     "data": {
      "text/plain": [
       "['e:\\\\python\\\\anaconda3\\\\envs\\\\paddle\\\\lib\\\\site-packages\\\\paddle\\\\fluid\\\\..\\\\libs',\n",
       " 'E:\\\\deep\\\\paddlepaddle_project\\\\paddle重写房价预测',\n",
       " 'e:\\\\python\\\\anaconda3\\\\envs\\\\paddle\\\\python37.zip',\n",
       " 'e:\\\\python\\\\anaconda3\\\\envs\\\\paddle\\\\DLLs',\n",
       " 'e:\\\\python\\\\anaconda3\\\\envs\\\\paddle\\\\lib',\n",
       " 'e:\\\\python\\\\anaconda3\\\\envs\\\\paddle',\n",
       " '',\n",
       " 'e:\\\\python\\\\anaconda3\\\\envs\\\\paddle\\\\lib\\\\site-packages',\n",
       " 'e:\\\\python\\\\anaconda3\\\\envs\\\\paddle\\\\lib\\\\site-packages\\\\win32',\n",
       " 'e:\\\\python\\\\anaconda3\\\\envs\\\\paddle\\\\lib\\\\site-packages\\\\win32\\\\lib',\n",
       " 'e:\\\\python\\\\anaconda3\\\\envs\\\\paddle\\\\lib\\\\site-packages\\\\Pythonwin',\n",
       " 'e:\\\\python\\\\anaconda3\\\\envs\\\\paddle\\\\lib\\\\site-packages\\\\IPython\\\\extensions',\n",
       " 'C:\\\\Users\\\\魏宏炜\\\\.ipython']"
      ]
     },
     "execution_count": 184,
     "metadata": {},
     "output_type": "execute_result"
    }
   ],
   "source": [
    "import sys\n",
    "sys.path"
   ]
  },
  {
   "cell_type": "markdown",
   "metadata": {},
   "source": [
    "### 用paddle重写波士顿房价预测问题\n",
    "### 数据集为housing.data文件\n",
    "###### 数据中的标签：[ 'CRIM', 'ZN', 'INDUS', 'CHAS', 'NOX', 'RM', 'AGE', 'DIS', 'RAD', 'TAX', 'PTRATIO', 'B', 'LSTAT', 'MEDV' ]\n",
    "###### 前面13个表示影响房价的指标，最后一个为房价中位数。"
   ]
  },
  {
   "cell_type": "code",
   "execution_count": 1,
   "metadata": {},
   "outputs": [],
   "source": [
    "#调用使用的模块\n",
    "import paddle\n",
    "import paddle.fluid as fluid\n",
    "import os\n",
    "import paddle.fluid.dygraph as dygraph#飞桨动态图\n",
    "from paddle.fluid.dygraph import Linear#提供诸多神经网络的基础模块\n",
    "import numpy as np\n",
    "import pandas as pd\n",
    "import random"
   ]
  },
  {
   "cell_type": "code",
   "execution_count": 2,
   "metadata": {},
   "outputs": [],
   "source": [
    "\n",
    "#数据处理部分\n",
    "def load_data():\n",
    "    # 从文件导入数据\n",
    "    datafile = 'housing.data'\n",
    "    data = np.fromfile(datafile, sep=' ')\n",
    "\n",
    "    # 每条数据包括14项，其中前面13项是影响因素，第14项是相应的房屋价格中位数\n",
    "    feature_names = [ 'CRIM', 'ZN', 'INDUS', 'CHAS', 'NOX', 'RM', 'AGE', \\\n",
    "                      'DIS', 'RAD', 'TAX', 'PTRATIO', 'B', 'LSTAT', 'MEDV' ]\n",
    "    feature_num = len(feature_names)\n",
    "\n",
    "    #将feature格式转换为（样本数，特征数）格式\n",
    "    feature = [data[k:k+feature_num] for k in range(0,len(data),feature_num)]\n",
    "    feature = np.array(feature)\n",
    "    #输出（506，14）\n",
    "    #print(feature.shape)\n",
    "    \n",
    "    #划分训练集合，测试集,前面80%样本作为训练集，后面20%样本作为测试集\n",
    "    offset = int(feature.shape[0] * 0.8)\n",
    "    train = feature[:offset]\n",
    "    test = feature[offset:]\n",
    "    \n",
    "    #归一化数据\n",
    "    maximum ,minimum , average = train.max(axis = 0) ,train.min(axis = 0) ,\\\n",
    "                        train.sum(axis = 0) / train.shape[0]\n",
    "    global max_values\n",
    "    global min_values\n",
    "    global avg_values\n",
    "    max_values = maximum\n",
    "    min_values = minimum\n",
    "    avg_values = average\n",
    "    \n",
    "    for i in range(train.shape[1]):\n",
    "        train[:,i] = (train[:,i] - average[i] ) / (maximum[i] - minimum[i])\n",
    "    '''\n",
    "    train = train[:,:-1]\n",
    "    train_y = train[:,-1]\n",
    "    '''\n",
    "    for i in range(test.shape[1] - 1):\n",
    "        test[:,i] = (test[:,i] - average[i] ) / (maximum[i] - minimum[i])\n",
    "    \n",
    "    '''\n",
    "    test_x = test[:,:-1]\n",
    "    test_y = test[:,-1]\n",
    "    '''\n",
    "    \n",
    "    data = {\n",
    "        \"train\":train,\n",
    "        \"test\":test\n",
    "    }\n",
    "    \n",
    "    return data\n"
   ]
  },
  {
   "cell_type": "code",
   "execution_count": 3,
   "metadata": {},
   "outputs": [],
   "source": [
    "#定义网络结构：\n",
    "class Regressor(fluid.dygraph.Layer):\n",
    "    def __init__(self):\n",
    "        super(Regressor,self).__init__()\n",
    "        #定义一层全连接层，输出维度是1，激活函数为None，即不使用激活函数\n",
    "        self.fc = Linear(input_dim = 13,output_dim = 1,act = None)\n",
    "        \n",
    "    def forward(self,inputs):#定义前向传播函数\n",
    "        x = self.fc(inputs)\n",
    "        return x\n",
    "    def backward():\n",
    "        pass\n",
    "        \n"
   ]
  },
  {
   "cell_type": "code",
   "execution_count": 4,
   "metadata": {},
   "outputs": [],
   "source": [
    "#训练配置\n",
    "with fluid.dygraph.guard():\n",
    "    #声明定义好的回归i模型\n",
    "    model = Regressor()\n",
    "    #运行模型\n",
    "    model.train()\n",
    "    #加载数据\n",
    "    data = load_data()\n",
    "    train = data[\"train\"]\n",
    "    \n",
    "    #print(train.shape[0],len(data[\"test\"]))\n",
    "    #定义优化器sgd\n",
    "    opt = fluid.optimizer.SGD(learning_rate = 0.01,parameter_list = model.parameters())\n",
    "    \n",
    "    "
   ]
  },
  {
   "cell_type": "code",
   "execution_count": 7,
   "metadata": {},
   "outputs": [
    {
     "name": "stdout",
     "output_type": "stream",
     "text": [
      "epoch: 0, iter: 0, loss is: [0.00771079]\n",
      "epoch: 0, iter: 20, loss is: [0.01681274]\n",
      "epoch: 0, iter: 40, loss is: [0.00359185]\n",
      "epoch: 1, iter: 0, loss is: [0.00543477]\n",
      "epoch: 1, iter: 20, loss is: [0.0055231]\n",
      "epoch: 1, iter: 40, loss is: [0.01899833]\n",
      "epoch: 2, iter: 0, loss is: [0.00733241]\n",
      "epoch: 2, iter: 20, loss is: [0.00674023]\n",
      "epoch: 2, iter: 40, loss is: [0.00931837]\n",
      "epoch: 3, iter: 0, loss is: [0.00520588]\n",
      "epoch: 3, iter: 20, loss is: [0.00744813]\n",
      "epoch: 3, iter: 40, loss is: [0.07268187]\n",
      "epoch: 4, iter: 0, loss is: [0.03688293]\n",
      "epoch: 4, iter: 20, loss is: [0.01200454]\n",
      "epoch: 4, iter: 40, loss is: [0.00291833]\n",
      "epoch: 5, iter: 0, loss is: [0.03325633]\n",
      "epoch: 5, iter: 20, loss is: [0.01469778]\n",
      "epoch: 5, iter: 40, loss is: [0.00163914]\n",
      "epoch: 6, iter: 0, loss is: [0.0051043]\n",
      "epoch: 6, iter: 20, loss is: [0.00453827]\n",
      "epoch: 6, iter: 40, loss is: [0.00268995]\n",
      "epoch: 7, iter: 0, loss is: [0.01046379]\n",
      "epoch: 7, iter: 20, loss is: [0.00344645]\n",
      "epoch: 7, iter: 40, loss is: [0.00556711]\n",
      "epoch: 8, iter: 0, loss is: [0.00840244]\n",
      "epoch: 8, iter: 20, loss is: [0.02932919]\n",
      "epoch: 8, iter: 40, loss is: [0.04610395]\n",
      "epoch: 9, iter: 0, loss is: [0.01420891]\n",
      "epoch: 9, iter: 20, loss is: [0.01545433]\n",
      "epoch: 9, iter: 40, loss is: [0.00123048]\n"
     ]
    }
   ],
   "source": [
    "#训练过程\n",
    "use_cuda = False\n",
    "place = fluid.CUDAPlace(0) if use_cuda else fluid.CPUPlace()\n",
    "with fluid.dygraph.guard(place):\n",
    "    EPOCH_NUM = 10#训练轮数\n",
    "    BATCH_SIZE = 10\n",
    "    \n",
    "    #定义外层循环\n",
    "    for epoch_id in range(EPOCH_NUM):\n",
    "        \n",
    "        #随机打乱数据\n",
    "        random.seed(1)\n",
    "        np.random.shuffle(train)\n",
    "        #将数据进行分割成多个mini_batch\n",
    "        mini_batchs = [train[k:k+BATCH_SIZE] for k in range(0,train.shape[0],BATCH_SIZE)  ]\n",
    "        #定义内层循环\n",
    "        for iter_id,mini_batch in enumerate(mini_batchs):\n",
    "            #获取数据集\n",
    "            x = np.array(mini_batch[:, :-1]).astype('float32') # 获得当前批次训练数据\n",
    "            y = np.array(mini_batch[:, -1:]).astype('float32') # 获得当前批次训练标签（真实房价）\n",
    "            #将numpy数组转化为Variable形式\n",
    "            house_features = dygraph.to_variable(x)\n",
    "            prices = dygraph.to_variable(y)\n",
    "            #前向传播\n",
    "            predicts = model(house_features)\n",
    "            #计算loss,用均方误差\n",
    "            loss = fluid.layers.square_error_cost(predicts,label = prices)\n",
    "            avg_loss = fluid.layers.mean(loss)\n",
    "            \n",
    "            if iter_id%20==0:\n",
    "                print(\"epoch: {}, iter: {}, loss is: {}\".format(epoch_id, iter_id, avg_loss.numpy()))\n",
    "            #计算反向过程\n",
    "            avg_loss.backward()\n",
    "            #最小化loss，更新参数\n",
    "            opt.minimize(avg_loss)\n",
    "\n",
    "            #清除梯度\n",
    "            model.clear_gradients()\n",
    "        #保存模型\n",
    "        fluid.save_dygraph(model.state_dict(),\"LR_model\")"
   ]
  },
  {
   "cell_type": "code",
   "execution_count": 190,
   "metadata": {},
   "outputs": [],
   "source": [
    "#测试模型\n",
    "def load_one_example(data_dir):\n",
    "    f = open(data_dir,\"r\")\n",
    "    datas = f.readlines()\n",
    "    #选择最后一条数据作为测试数据\n",
    "    one_e = datas[-2].strip().split()\n",
    "    one_data = [float(k) for k in one_e]\n",
    "    \n",
    "    #对数据进行归一化处理，房价不需要\n",
    "    for i in range(len(one_data)-1):\n",
    "        one_data[i] = (one_data[i]-avg_values[i]) / (max_values[i] - min_values[i])\n",
    "    data = np.reshape(np.array(one_data[0:-1]),[1,-1]).astype(np.float32)\n",
    "    \n",
    "    label = one_data[-1]\n",
    "    #print(data)\n",
    "    return data,label\n"
   ]
  },
  {
   "cell_type": "code",
   "execution_count": 191,
   "metadata": {},
   "outputs": [
    {
     "name": "stdout",
     "output_type": "stream",
     "text": [
      "预测房价： 26.753998\n",
      "真实房价： 22.0\n"
     ]
    }
   ],
   "source": [
    "with dygraph.guard():\n",
    "    #加载训练好的参数\n",
    "    #第一句是从文件中读取模型参数；第二句是将参数内容加载到模型。\n",
    "    model_dict,_ = fluid.load_dygraph(\"LR_model\")\n",
    "    model.load_dict(model_dict)\n",
    "    #将模型的状态调整为eval()（校验）\n",
    "    model.eval()\n",
    "    \n",
    "    #获取测试集\n",
    "    test_data , label = load_one_example(\"housing.data\")\n",
    "    #将数据转换为动态图的variable模式\n",
    "    test_data = dygraph.to_variable(test_data)\n",
    "    results = model(test_data)\n",
    "    \n",
    "    #对输出结果进行返归一化处理\n",
    "    results = results*(max_values[-1] - min_values[-1]) + avg_values[-1]\n",
    "    print(\"预测房价：\",results.numpy().squeeze())\n",
    "    print(\"真实房价：\",label)\n",
    "    \n",
    "    "
   ]
  },
  {
   "cell_type": "code",
   "execution_count": null,
   "metadata": {},
   "outputs": [],
   "source": []
  },
  {
   "cell_type": "code",
   "execution_count": null,
   "metadata": {},
   "outputs": [],
   "source": []
  }
 ],
 "metadata": {
  "kernelspec": {
   "display_name": "Python 3",
   "language": "python",
   "name": "python3"
  },
  "language_info": {
   "codemirror_mode": {
    "name": "ipython",
    "version": 3
   },
   "file_extension": ".py",
   "mimetype": "text/x-python",
   "name": "python",
   "nbconvert_exporter": "python",
   "pygments_lexer": "ipython3",
   "version": "3.7.9"
  },
  "widgets": {
   "application/vnd.jupyter.widget-state+json": {
    "state": {},
    "version_major": 2,
    "version_minor": 0
   }
  }
 },
 "nbformat": 4,
 "nbformat_minor": 2
}
